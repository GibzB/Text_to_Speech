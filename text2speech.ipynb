{
 "cells": [
  {
   "cell_type": "code",
   "execution_count": null,
   "metadata": {},
   "outputs": [],
   "source": [
    "# the scipy version packaged with colab is not tolerant of misformated WAV files.\n",
    "# install the latest version.\n",
    "!pip3 install -U scipy\n",
    "\n",
    "!git clone https://github.com/jnordberg/tortoise-tts.git\n",
    "%cd tortoise-tts\n",
    "!pip3 install torchaudio\n",
    "!pip3 install -r requirements.txt\n",
    "!pip3 install transformers==4.19.0 einops==0.5.0 rotary_embedding_torch==0.1.5 unidecode==1.3.5\n",
    "!python3 setup.py install\n"
   ]
  },
  {
   "cell_type": "code",
   "execution_count": null,
   "metadata": {},
   "outputs": [],
   "source": [
    "# Imports used through the rest of the notebook.\n",
    "import torch\n",
    "import torchaudio\n",
    "import torch.nn as nn\n",
    "import torch.nn.functional as F\n",
    "\n",
    "import IPython\n",
    "\n",
    "from tortoise.api import TextToSpeech\n",
    "from tortoise.utils.audio import load_audio, load_voice, load_voices\n",
    "\n",
    "# This will download all the models used by Tortoise from the HuggingFace hub.\n",
    "tts = TextToSpeech()"
   ]
  },
  {
   "cell_type": "code",
   "execution_count": null,
   "metadata": {},
   "outputs": [],
   "source": [
    "# Import necessary libraries\n",
    "import os\n",
    "from google.colab import files\n",
    "\n",
    "# Upload EPUB file \n",
    "uploaded = files.upload()\n",
    "\n",
    "# Create a directory to store converted EPUB files\n",
    "if not os.path.exists(\"converted_epub\"):\n",
    "    os.makedirs(\"converted_epub\")\n",
    "\n",
    "# Loop through the uploaded files\n",
    "for epub_file_name in uploaded.keys():\n",
    "    # Convert EPUB to TXT using ebook-convert from Calibre\n",
    "    txt_file_name = os.path.splitext(epub_file_name)[0] + \".txt\"\n",
    "    !ebook-convert \"{epub_file_name}\" \"converted_epub/{txt_file_name}\"\n",
    "\n",
    "    # Print conversion success message\n",
    "    print(f\"Successfully converted {epub_file_name} to {txt_file_name} and stored in 'converted_epub' folder.\")"
   ]
  },
  {
   "cell_type": "code",
   "execution_count": null,
   "metadata": {},
   "outputs": [],
   "source": [
    "# upload an epub file to convert to text file\n",
    "from google.colab import files\n",
    "uploaded = files.upload()\n",
    "\n",
    "# convert epub to text file and save to folder named converted_epub\n",
    "!mkdir converted_epub\n",
    "!ebook-convert *.epub converted_epub/converted.txt\n"
   ]
  },
  {
   "cell_type": "code",
   "execution_count": null,
   "metadata": {},
   "outputs": [],
   "source": [
    "# Select converted file to use \n",
    "import os\n",
    "import glob\n",
    "import pandas as pd\n",
    "\n",
    "path = 'converted_epub'\n",
    "all_files = glob.glob(os.path.join(path, \"*.txt\"))\n",
    "all_files.sort()\n",
    "all_files\n",
    "\n",
    "# Select file to use\n",
    "file = all_files[0]\n",
    "file\n"
   ]
  },
  {
   "cell_type": "code",
   "execution_count": null,
   "metadata": {},
   "outputs": [],
   "source": [
    "# convert selected file to speech\n",
    "# this will take a while\n",
    "# the output will be saved to the folder named output\n",
    "!mkdir output\n",
    "tts.convert(file, 'output/output.wav')\n",
    "\n",
    "# download output file\n",
    "from google.colab import files\n",
    "files.download('output/output.wav')\n",
    "\n",
    "# play output file\n",
    "IPython.display.Audio('output/output.wav')\n",
    "\n"
   ]
  },
  {
   "cell_type": "code",
   "execution_count": null,
   "metadata": {},
   "outputs": [],
   "source": [
    "# This is the text that will be spoken.\n",
    "text = \"Thanks for reading this article. I hope you learned something.\"\n",
    "\n",
    "\n",
    "\n",
    "# Pick a \"preset mode\" to determine quality. Options: {\"ultra_fast\", \"fast\" (default), \"standard\", \"high_quality\"}. See docs in api.py\n",
    "preset = \"fast\""
   ]
  },
  {
   "cell_type": "code",
   "execution_count": null,
   "metadata": {},
   "outputs": [],
   "source": [
    "# Optionally, upload use your own voice by running the next two cells. I recommend\n",
    "# you upload at least 2 audio clips. They must be a WAV file, 6-10 seconds long.\n",
    "CUSTOM_VOICE_NAME = \"martin\"\n",
    "\n",
    "import os\n",
    "from google.colab import files\n",
    "\n",
    "custom_voice_folder = f\"tortoise/voices/{CUSTOM_VOICE_NAME}\"\n",
    "os.makedirs(custom_voice_folder)\n",
    "for i, file_data in enumerate(files.upload().values()):\n",
    "  with open(os.path.join(custom_voice_folder, f'{i}.wav'), 'wb') as f:\n",
    "    f.write(file_data)"
   ]
  },
  {
   "cell_type": "code",
   "execution_count": null,
   "metadata": {},
   "outputs": [],
   "source": [
    "# Generate speech with the custotm voice.\n",
    "voice_samples, conditioning_latents = load_voice(CUSTOM_VOICE_NAME)\n",
    "gen = tts.tts_with_preset(text, voice_samples=voice_samples, conditioning_latents=conditioning_latents, \n",
    "                          preset=preset)\n",
    "torchaudio.save(f'generated-{CUSTOM_VOICE_NAME}.wav', gen.squeeze(0).cpu(), 24000)\n",
    "IPython.display.Audio(f'generated-{CUSTOM_VOICE_NAME}.wav')"
   ]
  }
 ],
 "metadata": {
  "kernelspec": {
   "display_name": "Python 3",
   "language": "python",
   "name": "python3"
  },
  "language_info": {
   "codemirror_mode": {
    "name": "ipython",
    "version": 3
   },
   "file_extension": ".py",
   "mimetype": "text/x-python",
   "name": "python",
   "nbconvert_exporter": "python",
   "pygments_lexer": "ipython3",
   "version": "3.10.10"
  },
  "orig_nbformat": 4
 },
 "nbformat": 4,
 "nbformat_minor": 2
}
